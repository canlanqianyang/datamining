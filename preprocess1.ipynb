{
 "cells": [
  {
   "cell_type": "code",
   "execution_count": 81,
   "metadata": {},
   "outputs": [],
   "source": [
    "%matplotlib inline\n",
    "import matplotlib.pyplot as plt\n",
    "import numpy as np\n",
    "import pandas as pd\n",
    "\n",
    "data=pd.read_csv(\"wine-reviews/winemag-data_first150k.csv\")\n",
    "\n",
    "plt.style.use(\"ggplot\")\n",
    "plt.rcParams['axes.unicode_minus'] = False\n",
    "plt.rcParams['font.sans-serif']=['SimHei']"
   ]
  },
  {
   "cell_type": "markdown",
   "metadata": {},
   "source": [
    "# 1.对标称属性统计每个可能取值的频数"
   ]
  },
  {
   "cell_type": "code",
   "execution_count": 82,
   "metadata": {},
   "outputs": [
    {
     "data": {
      "text/plain": [
       "US                        62397\n",
       "Italy                     23478\n",
       "France                    21098\n",
       "Spain                      8268\n",
       "Chile                      5816\n",
       "Argentina                  5631\n",
       "Portugal                   5322\n",
       "Australia                  4957\n",
       "New Zealand                3320\n",
       "Austria                    3057\n",
       "Germany                    2452\n",
       "South Africa               2258\n",
       "Greece                      884\n",
       "Israel                      630\n",
       "Hungary                     231\n",
       "Canada                      196\n",
       "Romania                     139\n",
       "Slovenia                     94\n",
       "Uruguay                      92\n",
       "Croatia                      89\n",
       "Bulgaria                     77\n",
       "Moldova                      71\n",
       "Mexico                       63\n",
       "Turkey                       52\n",
       "Georgia                      43\n",
       "Lebanon                      37\n",
       "Cyprus                       31\n",
       "Brazil                       25\n",
       "Macedonia                    16\n",
       "Serbia                       14\n",
       "Morocco                      12\n",
       "England                       9\n",
       "Luxembourg                    9\n",
       "India                         8\n",
       "Lithuania                     8\n",
       "Czech Republic                6\n",
       "Ukraine                       5\n",
       "South Korea                   4\n",
       "Switzerland                   4\n",
       "Bosnia and Herzegovina        4\n",
       "Slovakia                      3\n",
       "Egypt                         3\n",
       "China                         3\n",
       "Montenegro                    2\n",
       "Tunisia                       2\n",
       "Albania                       2\n",
       "Japan                         2\n",
       "US-France                     1\n",
       "Name: country, dtype: int64"
      ]
     },
     "execution_count": 82,
     "metadata": {},
     "output_type": "execute_result"
    }
   ],
   "source": [
    "data.country.value_counts()"
   ]
  },
  {
   "cell_type": "code",
   "execution_count": 83,
   "metadata": {},
   "outputs": [
    {
     "data": {
      "text/plain": [
       "California                                44508\n",
       "Washington                                 9750\n",
       "Tuscany                                    7281\n",
       "Bordeaux                                   6111\n",
       "Northern Spain                             4892\n",
       "Mendoza Province                           4742\n",
       "Oregon                                     4589\n",
       "Burgundy                                   4308\n",
       "Piedmont                                   4093\n",
       "Veneto                                     3962\n",
       "South Australia                            3004\n",
       "Sicily & Sardinia                          2545\n",
       "New York                                   2428\n",
       "Northeastern Italy                         1982\n",
       "Loire Valley                               1786\n",
       "Alsace                                     1680\n",
       "Marlborough                                1655\n",
       "Southwest France                           1601\n",
       "Central Italy                              1530\n",
       "Southern Italy                             1439\n",
       "Champagne                                  1370\n",
       "Catalonia                                  1352\n",
       "Rhône Valley                               1318\n",
       "Colchagua Valley                           1201\n",
       "Languedoc-Roussillon                       1082\n",
       "Douro                                      1075\n",
       "Provence                                   1021\n",
       "Port                                        903\n",
       "Maipo Valley                                895\n",
       "Other                                       889\n",
       "                                          ...  \n",
       "Elim                                          1\n",
       "Malgas                                        1\n",
       "Colares                                       1\n",
       "Beni M'Tir                                    1\n",
       "Waitaki Valley                                1\n",
       "Vino da Tavola della Svizzera Italiana        1\n",
       "Cape South Coast                              1\n",
       "Central Greece                                1\n",
       "Krania Olympus                                1\n",
       "Viile Carasului                               1\n",
       "Sterea Ellada                                 1\n",
       "Central Otago-Marlborough                     1\n",
       "Maipo Valley-Colchagua Valley                 1\n",
       "Dalmatian Coast                               1\n",
       "Limnos                                        1\n",
       "Rose Valley                                   1\n",
       "Stirling                                      1\n",
       "Pannon                                        1\n",
       "Lemnos                                        1\n",
       "Morocco                                       1\n",
       "Ioannina                                      1\n",
       "Douro Superior                                1\n",
       "Martinborough Terrace                         1\n",
       "Colchagua Costa                               1\n",
       "Ella Valley                                   1\n",
       "Vale Trentino                                 1\n",
       "Casablanca-Curicó Valley                      1\n",
       "Langenlois                                    1\n",
       "Ilia                                          1\n",
       "Pafos                                         1\n",
       "Name: province, Length: 455, dtype: int64"
      ]
     },
     "execution_count": 83,
     "metadata": {},
     "output_type": "execute_result"
    }
   ],
   "source": [
    "data.province.value_counts()"
   ]
  },
  {
   "cell_type": "code",
   "execution_count": 84,
   "metadata": {},
   "outputs": [
    {
     "data": {
      "text/plain": [
       "Central Coast              13057\n",
       "Sonoma                     11258\n",
       "Columbia Valley             9157\n",
       "Napa                        8801\n",
       "California Other            3516\n",
       "Willamette Valley           3181\n",
       "Mendocino/Lake Counties     2389\n",
       "Sierra Foothills            1660\n",
       "Napa-Sonoma                 1645\n",
       "Finger Lakes                1510\n",
       "Central Valley              1115\n",
       "Long Island                  771\n",
       "Southern Oregon              662\n",
       "Oregon Other                 661\n",
       "North Coast                  632\n",
       "Washington Other             593\n",
       "South Coast                  198\n",
       "New York Other               147\n",
       "Name: region_2, dtype: int64"
      ]
     },
     "execution_count": 84,
     "metadata": {},
     "output_type": "execute_result"
    }
   ],
   "source": [
    "data.region_2.value_counts()"
   ]
  },
  {
   "cell_type": "code",
   "execution_count": 85,
   "metadata": {},
   "outputs": [
    {
     "data": {
      "text/plain": [
       "Chardonnay                       14482\n",
       "Pinot Noir                       14291\n",
       "Cabernet Sauvignon               12800\n",
       "Red Blend                        10062\n",
       "Bordeaux-style Red Blend          7347\n",
       "Sauvignon Blanc                   6320\n",
       "Syrah                             5825\n",
       "Riesling                          5524\n",
       "Merlot                            5070\n",
       "Zinfandel                         3799\n",
       "Sangiovese                        3345\n",
       "Malbec                            3208\n",
       "White Blend                       2824\n",
       "Rosé                              2817\n",
       "Tempranillo                       2556\n",
       "Nebbiolo                          2241\n",
       "Portuguese Red                    2216\n",
       "Sparkling Blend                   2004\n",
       "Shiraz                            1970\n",
       "Corvina, Rondinella, Molinara     1682\n",
       "Rhône-style Red Blend             1505\n",
       "Barbera                           1365\n",
       "Pinot Gris                        1365\n",
       "Cabernet Franc                    1363\n",
       "Sangiovese Grosso                 1346\n",
       "Pinot Grigio                      1305\n",
       "Viognier                          1263\n",
       "Bordeaux-style White Blend        1261\n",
       "Champagne Blend                   1238\n",
       "Port                              1058\n",
       "                                 ...  \n",
       "Pinotage-Merlot                      1\n",
       "Moscatel Graúdo                      1\n",
       "Früburgunder                         1\n",
       "Pinot Grigio-Chardonnay              1\n",
       "Bombino Bianco                       1\n",
       "Kinali Yapincak                      1\n",
       "Moristel                             1\n",
       "Garnacha Tintorera                   1\n",
       "Muscat Hamburg                       1\n",
       "Romorantin                           1\n",
       "Tinta Francisca                      1\n",
       "Petit Meslier                        1\n",
       "Cococciola                           1\n",
       "Groppello                            1\n",
       "Chardonnay-Pinot Grigio              1\n",
       "Malbec-Cabernet Franc                1\n",
       "Vidadillo                            1\n",
       "Erbaluce                             1\n",
       "Morava                               1\n",
       "Caprettone                           1\n",
       "Irsai Oliver                         1\n",
       "Viura-Verdejo                        1\n",
       "Kuntra                               1\n",
       "Asprinio                             1\n",
       "Espadeiro                            1\n",
       "Moscato di Noto                      1\n",
       "Rebula                               1\n",
       "Viura-Sauvignon Blanc                1\n",
       "Moscatel de Alejandría               1\n",
       "Durello                              1\n",
       "Name: variety, Length: 632, dtype: int64"
      ]
     },
     "execution_count": 85,
     "metadata": {},
     "output_type": "execute_result"
    }
   ],
   "source": [
    "data.variety.value_counts()"
   ]
  },
  {
   "cell_type": "markdown",
   "metadata": {},
   "source": [
    "# 2.对数值属性求最大/最小/均值/中位数/四分位数/缺失值个数"
   ]
  },
  {
   "cell_type": "code",
   "execution_count": 86,
   "metadata": {},
   "outputs": [
    {
     "name": "stdout",
     "output_type": "stream",
     "text": [
      "------数值属性points------\n",
      "最大值： 100\n",
      "最小值： 80\n",
      "均　值： 87.8884184721394\n",
      "中位数： 88.0\n",
      "四分位数： 86.0 88.0 90.0\n",
      "缺失值数： 0\n"
     ]
    }
   ],
   "source": [
    "print(\"------数值属性points------\")\n",
    "print(\"最大值：\",max(data.points))\n",
    "print(\"最小值：\",min(data.points))\n",
    "print(\"均　值：\",data.points.mean())\n",
    "print(\"中位数：\",data.points.median())\n",
    "print(\"四分位数：\",data.points.quantile(.25),data.points.quantile(.5),data.points.quantile(.75))\n",
    "print(\"缺失值数：\",data.points.isnull().sum())"
   ]
  },
  {
   "cell_type": "code",
   "execution_count": 87,
   "metadata": {},
   "outputs": [
    {
     "name": "stdout",
     "output_type": "stream",
     "text": [
      "------数值属性price------\n",
      "最大值： 2300.0\n",
      "最小值： 4.0\n",
      "均　值： 33.13148249353299\n",
      "中位数： 24.0\n",
      "四分位数： 16.0 24.0 40.0\n",
      "缺失值数： 13695\n"
     ]
    }
   ],
   "source": [
    "print(\"------数值属性price------\")\n",
    "print(\"最大值：\",max(data.price))\n",
    "print(\"最小值：\",min(data.price))\n",
    "print(\"均　值：\",data.price.mean())\n",
    "print(\"中位数：\",data.price.median())\n",
    "print(\"四分位数：\",data.price.quantile(.25),data.price.quantile(.5),data.price.quantile(.75))\n",
    "print(\"缺失值数：\",data.price.isnull().sum())"
   ]
  },
  {
   "cell_type": "markdown",
   "metadata": {},
   "source": [
    "# 3.对数值属性绘制直方图/QQ图/盒图"
   ]
  },
  {
   "cell_type": "code",
   "execution_count": 88,
   "metadata": {},
   "outputs": [
    {
     "data": {
      "image/png": "[encoded data removed]",
      "text/plain": [
       "<Figure size 432x288 with 1 Axes>"
      ]
     },
     "metadata": {},
     "output_type": "display_data"
    }
   ],
   "source": [
    "plt.hist(data.points,bins = 20,color = 'steelblue',edgecolor = 'k',label = 'points')\n",
    "plt.legend()\n",
    "plt.show()"
   ]
  },
  {
   "cell_type": "code",
   "execution_count": 89,
   "metadata": {},
   "outputs": [
    {
     "data": {
      "image/png": "[encoded data removed]",
      "text/plain": [
       "<Figure size 432x288 with 1 Axes>"
      ]
     },
     "metadata": {},
     "output_type": "display_data"
    }
   ],
   "source": [
    "from scipy import stats\n",
    "stats.probplot(data.points, dist=\"norm\", plot=plt)\n",
    "plt.show()"
   ]
  },
  {
   "cell_type": "markdown",
   "metadata": {},
   "source": [
    "### 根据上方QQ图可知，数值属性points服从正太分布；根据下面的盒图可以看出，属性points存在若干数值较大的离群值"
   ]
  },
  {
   "cell_type": "code",
   "execution_count": 90,
   "metadata": {},
   "outputs": [
    {
     "data": {
      "image/png": "[encoded data removed]",
      "text/plain": [
       "<Figure size 432x288 with 1 Axes>"
      ]
     },
     "metadata": {},
     "output_type": "display_data"
    }
   ],
   "source": [
    "plt.boxplot(data.points)\n",
    "plt.show()"
   ]
  },
  {
   "cell_type": "markdown",
   "metadata": {},
   "source": [
    "# 4.处理属性price的缺失值"
   ]
  },
  {
   "cell_type": "markdown",
   "metadata": {},
   "source": [
    "## 4.1将缺失部分剔除"
   ]
  },
  {
   "cell_type": "code",
   "execution_count": 91,
   "metadata": {},
   "outputs": [
    {
     "data": {
      "image/png": "[encoded data removed]",
      "text/plain": [
       "<Figure size 432x288 with 1 Axes>"
      ]
     },
     "metadata": {},
     "output_type": "display_data"
    },
    {
     "name": "stdout",
     "output_type": "stream",
     "text": [
      "13695 0\n"
     ]
    }
   ],
   "source": [
    "drop_data=data.dropna(subset=['price'])\n",
    "plt.hist(drop_data.price,bins = 200,color = 'steelblue',edgecolor = 'k',label = 'price')\n",
    "plt.legend()\n",
    "plt.show()\n",
    "print(data.price.isnull().sum(),drop_data.price.isnull().sum())"
   ]
  },
  {
   "cell_type": "code",
   "execution_count": 92,
   "metadata": {},
   "outputs": [
    {
     "data": {
      "image/png": "[encoded data removed]",
      "text/plain": [
       "<Figure size 432x288 with 1 Axes>"
      ]
     },
     "metadata": {},
     "output_type": "display_data"
    }
   ],
   "source": [
    "stats.probplot(drop_data.price, dist=\"norm\", plot=plt)\n",
    "plt.show()"
   ]
  },
  {
   "cell_type": "code",
   "execution_count": 93,
   "metadata": {
    "scrolled": true
   },
   "outputs": [
    {
     "data": {
      "image/png": "[encoded data removed]",
      "text/plain": [
       "<Figure size 432x288 with 1 Axes>"
      ]
     },
     "metadata": {},
     "output_type": "display_data"
    }
   ],
   "source": [
    "plt.boxplot(drop_data.price)\n",
    "plt.show()"
   ]
  },
  {
   "cell_type": "markdown",
   "metadata": {},
   "source": [
    "## 4.2用最高频率值来填补缺失值"
   ]
  },
  {
   "cell_type": "markdown",
   "metadata": {},
   "source": [
    "### 由于price的数据大部分聚集在较小一侧，所以选择中值替换缺失值"
   ]
  },
  {
   "cell_type": "code",
   "execution_count": 94,
   "metadata": {},
   "outputs": [
    {
     "data": {
      "image/png": "[encoded data removed]",
      "text/plain": [
       "<Figure size 432x288 with 1 Axes>"
      ]
     },
     "metadata": {},
     "output_type": "display_data"
    },
    {
     "name": "stdout",
     "output_type": "stream",
     "text": [
      "13695 0\n"
     ]
    }
   ],
   "source": [
    "fill_median_data=data.price.fillna(data.price.median())\n",
    "plt.hist(fill_median_data,bins = 200,color = 'steelblue',edgecolor = 'k',label = 'price')\n",
    "plt.legend()\n",
    "plt.show()\n",
    "print(data.price.isnull().sum(),fill_median_data.isnull().sum())"
   ]
  },
  {
   "cell_type": "markdown",
   "metadata": {},
   "source": [
    "## 4.3 通过属性的相关关系来填补缺失值"
   ]
  },
  {
   "cell_type": "markdown",
   "metadata": {},
   "source": [
    "### 把属性price缺失值作为新的label，建立模型得到预测值，然后进行填充，这里采用随机森林RF进行拟合。"
   ]
  },
  {
   "cell_type": "code",
   "execution_count": 95,
   "metadata": {},
   "outputs": [
    {
     "name": "stdout",
     "output_type": "stream",
     "text": [
      "13695\n",
      "0 13695\n"
     ]
    }
   ],
   "source": [
    "from sklearn.ensemble import RandomForestRegressor\n",
    "\n",
    "print(data['price'].isnull().sum())\n",
    "data1=data.copy(deep=True)\n",
    "price_data=data[['price','points']]\n",
    "known_price = price_data[price_data['price'].notnull()].values\n",
    "unknown_price = price_data[price_data['price'].isnull()].values\n",
    "y = known_price[:, 0]\n",
    "X = known_price[:, 1:]\n",
    "rfr = RandomForestRegressor(random_state=0, n_estimators=2000, n_jobs=-1)\n",
    "rfr.fit(X, y)\n",
    "predictedPrice = rfr.predict(unknown_price[:, 1:])\n",
    "data.loc[(data['price'].isnull()), 'price' ] = predictedPrice\n",
    "print(data['price'].isnull().sum(),data1.price.isnull().sum())"
   ]
  },
  {
   "cell_type": "code",
   "execution_count": 47,
   "metadata": {},
   "outputs": [
    {
     "data": {
      "image/png": "[encoded data removed]",
      "text/plain": [
       "<Figure size 432x288 with 1 Axes>"
      ]
     },
     "metadata": {},
     "output_type": "display_data"
    }
   ],
   "source": [
    "plt.hist(data['price'],bins = 200,color = 'steelblue',edgecolor = 'k',label = 'LATITUDE')\n",
    "plt.legend()\n",
    "plt.show()"
   ]
  },
  {
   "cell_type": "markdown",
   "metadata": {},
   "source": [
    "## 4.4通过数据对象之间的相似性来填补缺失值"
   ]
  },
  {
   "cell_type": "markdown",
   "metadata": {},
   "source": [
    "### 填充近邻的数据，先利用knn计算临近的k个数据，然后填充他们的均值。"
   ]
  },
  {
   "cell_type": "code",
   "execution_count": null,
   "metadata": {},
   "outputs": [],
   "source": [
    "from fancyimpute import KNN\n",
    "data_knn=np.array(data1[['points','price']])\n",
    "fill_knn_data=pd.DataFrame(KNN(k=3).fit_transform(data_knn))"
   ]
  }
 ],
 "metadata": {
  "kernelspec": {
   "display_name": "Python 3",
   "language": "python",
   "name": "python3"
  },
  "language_info": {
   "codemirror_mode": {
    "name": "ipython",
    "version": 3
   },
   "file_extension": ".py",
   "mimetype": "text/x-python",
   "name": "python",
   "nbconvert_exporter": "python",
   "pygments_lexer": "ipython3",
   "version": "3.6.6"
  }
 },
 "nbformat": 4,
 "nbformat_minor": 2
}
