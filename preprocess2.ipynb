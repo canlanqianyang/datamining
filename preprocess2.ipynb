{
 "cells": [
  {
   "cell_type": "code",
   "execution_count": 2,
   "metadata": {},
   "outputs": [],
   "source": [
    "%matplotlib inline\n",
    "import matplotlib.pyplot as plt\n",
    "import numpy as np\n",
    "import pandas as pd\n",
    "from scipy import stats\n",
    "\n",
    "data=pd.read_csv(\"chicago-building-violations/building-violations.csv\")\n",
    "\n",
    "plt.style.use(\"ggplot\")\n",
    "plt.rcParams['axes.unicode_minus'] = False\n",
    "plt.rcParams['font.sans-serif']=['SimHei']"
   ]
  },
  {
   "cell_type": "markdown",
   "metadata": {},
   "source": [
    "# 1.对标称属性统计每个可能取值的频数"
   ]
  },
  {
   "cell_type": "code",
   "execution_count": 3,
   "metadata": {},
   "outputs": [
    {
     "data": {
      "text/plain": [
       "OPEN        999892\n",
       "COMPLIED    600873\n",
       "NO ENTRY      5376\n",
       "Name: VIOLATION STATUS, dtype: int64"
      ]
     },
     "execution_count": 3,
     "metadata": {},
     "output_type": "execute_result"
    }
   ],
   "source": [
    "data['VIOLATION STATUS'].value_counts()"
   ]
  },
  {
   "cell_type": "code",
   "execution_count": 4,
   "metadata": {},
   "outputs": [
    {
     "data": {
      "text/plain": [
       "FAILED    1116648\n",
       "PASSED     275909\n",
       "CLOSED     213464\n",
       "HOLD          104\n",
       "Name: INSPECTION STATUS, dtype: int64"
      ]
     },
     "execution_count": 4,
     "metadata": {},
     "output_type": "execute_result"
    }
   ],
   "source": [
    "data['INSPECTION STATUS'].value_counts()"
   ]
  },
  {
   "cell_type": "code",
   "execution_count": 5,
   "metadata": {},
   "outputs": [
    {
     "data": {
      "text/plain": [
       "COMPLAINT       1135325\n",
       "PERIODIC         400487\n",
       "PERMIT            67735\n",
       "REGISTRATION       2594\n",
       "Name: INSPECTION CATEGORY, dtype: int64"
      ]
     },
     "execution_count": 5,
     "metadata": {},
     "output_type": "execute_result"
    }
   ],
   "source": [
    "data['INSPECTION CATEGORY'].value_counts()"
   ]
  },
  {
   "cell_type": "code",
   "execution_count": 6,
   "metadata": {},
   "outputs": [
    {
     "data": {
      "text/plain": [
       "CONSERVATION                  1070068\n",
       "DEMOLITION                     120009\n",
       "SPECIAL TASK FORCE             108158\n",
       "ELEVATOR                        80190\n",
       "ELECTRICAL                      35947\n",
       "BOILER                          29867\n",
       "VENTILATION                     29834\n",
       "REFRIGERATION                   29230\n",
       "NEW CONSTRUCTION                27688\n",
       "PLUMBING                        26778\n",
       "SPECIAL INSPECTION PROGRAM      19734\n",
       "IRON                            14309\n",
       "SIGNS                           13079\n",
       "WATER                             784\n",
       "CONSTRUCTION EQUIPMENT            466\n",
       "Name: DEPARTMENT BUREAU, dtype: int64"
      ]
     },
     "execution_count": 6,
     "metadata": {},
     "output_type": "execute_result"
    }
   ],
   "source": [
    "data['DEPARTMENT BUREAU'].value_counts()"
   ]
  },
  {
   "cell_type": "code",
   "execution_count": 7,
   "metadata": {},
   "outputs": [
    {
     "data": {
      "text/plain": [
       "S    652948\n",
       "W    479503\n",
       "N    380237\n",
       "E     93453\n",
       "Name: STREET DIRECTION, dtype: int64"
      ]
     },
     "execution_count": 7,
     "metadata": {},
     "output_type": "execute_result"
    }
   ],
   "source": [
    "data['STREET DIRECTION'].value_counts()"
   ]
  },
  {
   "cell_type": "markdown",
   "metadata": {},
   "source": [
    "# 2.对数值属性求最大/最小/均值/中位数/四分位数/缺失值个数"
   ]
  },
  {
   "cell_type": "code",
   "execution_count": 8,
   "metadata": {
    "scrolled": true
   },
   "outputs": [
    {
     "data": {
      "text/html": [
       "<div>\n",
       "<style scoped>\n",
       "    .dataframe tbody tr th:only-of-type {\n",
       "        vertical-align: middle;\n",
       "    }\n",
       "\n",
       "    .dataframe tbody tr th {\n",
       "        vertical-align: top;\n",
       "    }\n",
       "\n",
       "    .dataframe thead th {\n",
       "        text-align: right;\n",
       "    }\n",
       "</style>\n",
       "<table border=\"1\" class=\"dataframe\">\n",
       "  <thead>\n",
       "    <tr style=\"text-align: right;\">\n",
       "      <th></th>\n",
       "      <th>ID</th>\n",
       "      <th>INSPECTION NUMBER</th>\n",
       "      <th>STREET NUMBER</th>\n",
       "      <th>LATITUDE</th>\n",
       "      <th>LONGITUDE</th>\n",
       "    </tr>\n",
       "  </thead>\n",
       "  <tbody>\n",
       "    <tr>\n",
       "      <th>count</th>\n",
       "      <td>1.606141e+06</td>\n",
       "      <td>1.606141e+06</td>\n",
       "      <td>1.606141e+06</td>\n",
       "      <td>1.604691e+06</td>\n",
       "      <td>1.604691e+06</td>\n",
       "    </tr>\n",
       "    <tr>\n",
       "      <th>mean</th>\n",
       "      <td>3.934830e+06</td>\n",
       "      <td>7.835725e+06</td>\n",
       "      <td>4.147647e+03</td>\n",
       "      <td>4.184605e+01</td>\n",
       "      <td>-8.767282e+01</td>\n",
       "    </tr>\n",
       "    <tr>\n",
       "      <th>std</th>\n",
       "      <td>1.449792e+06</td>\n",
       "      <td>4.538310e+06</td>\n",
       "      <td>2.890586e+03</td>\n",
       "      <td>8.749916e-02</td>\n",
       "      <td>5.750284e-02</td>\n",
       "    </tr>\n",
       "    <tr>\n",
       "      <th>min</th>\n",
       "      <td>2.199700e+05</td>\n",
       "      <td>2.655750e+05</td>\n",
       "      <td>1.000000e+00</td>\n",
       "      <td>4.164467e+01</td>\n",
       "      <td>-8.791444e+01</td>\n",
       "    </tr>\n",
       "    <tr>\n",
       "      <th>25%</th>\n",
       "      <td>2.684481e+06</td>\n",
       "      <td>2.263922e+06</td>\n",
       "      <td>1.648000e+03</td>\n",
       "      <td>4.177123e+01</td>\n",
       "      <td>-8.771395e+01</td>\n",
       "    </tr>\n",
       "    <tr>\n",
       "      <th>50%</th>\n",
       "      <td>4.079898e+06</td>\n",
       "      <td>1.034090e+07</td>\n",
       "      <td>3.744000e+03</td>\n",
       "      <td>4.185425e+01</td>\n",
       "      <td>-8.767003e+01</td>\n",
       "    </tr>\n",
       "    <tr>\n",
       "      <th>75%</th>\n",
       "      <td>5.181752e+06</td>\n",
       "      <td>1.161002e+07</td>\n",
       "      <td>6.225000e+03</td>\n",
       "      <td>4.191435e+01</td>\n",
       "      <td>-8.763318e+01</td>\n",
       "    </tr>\n",
       "    <tr>\n",
       "      <th>max</th>\n",
       "      <td>6.214219e+06</td>\n",
       "      <td>1.285384e+07</td>\n",
       "      <td>1.377000e+04</td>\n",
       "      <td>4.202269e+01</td>\n",
       "      <td>-8.752468e+01</td>\n",
       "    </tr>\n",
       "  </tbody>\n",
       "</table>\n",
       "</div>"
      ],
      "text/plain": [
       "                 ID  INSPECTION NUMBER  STREET NUMBER      LATITUDE  \\\n",
       "count  1.606141e+06       1.606141e+06   1.606141e+06  1.604691e+06   \n",
       "mean   3.934830e+06       7.835725e+06   4.147647e+03  4.184605e+01   \n",
       "std    1.449792e+06       4.538310e+06   2.890586e+03  8.749916e-02   \n",
       "min    2.199700e+05       2.655750e+05   1.000000e+00  4.164467e+01   \n",
       "25%    2.684481e+06       2.263922e+06   1.648000e+03  4.177123e+01   \n",
       "50%    4.079898e+06       1.034090e+07   3.744000e+03  4.185425e+01   \n",
       "75%    5.181752e+06       1.161002e+07   6.225000e+03  4.191435e+01   \n",
       "max    6.214219e+06       1.285384e+07   1.377000e+04  4.202269e+01   \n",
       "\n",
       "          LONGITUDE  \n",
       "count  1.604691e+06  \n",
       "mean  -8.767282e+01  \n",
       "std    5.750284e-02  \n",
       "min   -8.791444e+01  \n",
       "25%   -8.771395e+01  \n",
       "50%   -8.767003e+01  \n",
       "75%   -8.763318e+01  \n",
       "max   -8.752468e+01  "
      ]
     },
     "execution_count": 8,
     "metadata": {},
     "output_type": "execute_result"
    }
   ],
   "source": [
    "num_data=data[['ID','INSPECTION NUMBER','STREET NUMBER','LATITUDE', 'LONGITUDE']]\n",
    "num_data.describe()"
   ]
  },
  {
   "cell_type": "code",
   "execution_count": 9,
   "metadata": {},
   "outputs": [
    {
     "name": "stdout",
     "output_type": "stream",
     "text": [
      "-----缺失值列表-----\n",
      "ID: 0\n",
      "INSPECTION NUMBER: 0\n",
      "STREET NUMBER: 0\n",
      "LATITUDE: 1450\n",
      "LONGITUDE: 1450\n"
     ]
    }
   ],
   "source": [
    "print(\"-----缺失值列表-----\")\n",
    "print(\"ID:\",data['ID'].isnull().sum())\n",
    "print(\"INSPECTION NUMBER:\",data['INSPECTION NUMBER'].isnull().sum())\n",
    "print(\"STREET NUMBER:\",data['STREET NUMBER'].isnull().sum())\n",
    "print(\"LATITUDE:\",data['LATITUDE'].isnull().sum())\n",
    "print(\"LONGITUDE:\",data['LONGITUDE'].isnull().sum())"
   ]
  },
  {
   "cell_type": "markdown",
   "metadata": {},
   "source": [
    "# 3.对数值属性绘制直方图/QQ图/盒图"
   ]
  },
  {
   "cell_type": "code",
   "execution_count": 10,
   "metadata": {},
   "outputs": [
    {
     "data": {
      "image/png": "[encoded data removed]",
      "text/plain": [
       "<Figure size 432x288 with 1 Axes>"
      ]
     },
     "metadata": {
      "needs_background": "light"
     },
     "output_type": "display_data"
    }
   ],
   "source": [
    "plt.hist(data['STREET NUMBER'],bins = 50,color = 'steelblue',edgecolor = 'k',label = 'INSPECTION NUMBER')\n",
    "plt.legend()\n",
    "plt.show()"
   ]
  },
  {
   "cell_type": "code",
   "execution_count": 11,
   "metadata": {},
   "outputs": [
    {
     "data": {
      "image/png": "[encoded data removed]",
      "text/plain": [
       "<Figure size 432x288 with 1 Axes>"
      ]
     },
     "metadata": {
      "needs_background": "light"
     },
     "output_type": "display_data"
    }
   ],
   "source": [
    "stats.probplot(data['STREET NUMBER'],dist=\"norm\",plot=plt)\n",
    "plt.show()"
   ]
  },
  {
   "cell_type": "markdown",
   "metadata": {},
   "source": [
    "### 根据上方QQ图可知，数值属性STREET NUMBER服从正太分布；根据下面的盒图可以看出，属性STREET NUMBER存在若干数值较大的离群值"
   ]
  },
  {
   "cell_type": "code",
   "execution_count": 12,
   "metadata": {},
   "outputs": [
    {
     "data": {
      "image/png": "[encoded data removed]",
      "text/plain": [
       "<Figure size 432x288 with 1 Axes>"
      ]
     },
     "metadata": {
      "needs_background": "light"
     },
     "output_type": "display_data"
    }
   ],
   "source": [
    "plt.boxplot(data[ 'STREET NUMBER'])\n",
    "plt.show()"
   ]
  },
  {
   "cell_type": "markdown",
   "metadata": {},
   "source": [
    "# 4.处理属性LATITUDE的缺失值"
   ]
  },
  {
   "cell_type": "markdown",
   "metadata": {},
   "source": [
    "## 4.1将缺失部分剔除"
   ]
  },
  {
   "cell_type": "code",
   "execution_count": 13,
   "metadata": {},
   "outputs": [
    {
     "data": {
      "image/png": "[encoded data removed]",
      "text/plain": [
       "<Figure size 432x288 with 1 Axes>"
      ]
     },
     "metadata": {
      "needs_background": "light"
     },
     "output_type": "display_data"
    }
   ],
   "source": [
    "drop_data1=data.dropna(subset=['LATITUDE'])\n",
    "plt.hist(drop_data1['LATITUDE'],bins = 20,color = 'steelblue',edgecolor = 'k',label = 'LATITUDE')\n",
    "plt.legend()\n",
    "plt.show()"
   ]
  },
  {
   "cell_type": "code",
   "execution_count": 14,
   "metadata": {},
   "outputs": [
    {
     "data": {
      "image/png": "[encoded data removed]",
      "text/plain": [
       "<Figure size 432x288 with 1 Axes>"
      ]
     },
     "metadata": {
      "needs_background": "light"
     },
     "output_type": "display_data"
    }
   ],
   "source": [
    "stats.probplot(drop_data1['LATITUDE'],dist=\"norm\",plot=plt)\n",
    "plt.show()"
   ]
  },
  {
   "cell_type": "code",
   "execution_count": 15,
   "metadata": {},
   "outputs": [
    {
     "data": {
      "image/png": "[encoded data removed]",
      "text/plain": [
       "<Figure size 432x288 with 1 Axes>"
      ]
     },
     "metadata": {
      "needs_background": "light"
     },
     "output_type": "display_data"
    }
   ],
   "source": [
    "plt.boxplot(drop_data1[ 'LATITUDE'])\n",
    "plt.show()"
   ]
  },
  {
   "cell_type": "markdown",
   "metadata": {},
   "source": [
    "## 4.2用最高频率值来填补缺失值"
   ]
  },
  {
   "cell_type": "markdown",
   "metadata": {},
   "source": [
    "### 由于观测值都较好地聚集在平均值周围，所以选择均值代替缺失值"
   ]
  },
  {
   "cell_type": "code",
   "execution_count": 16,
   "metadata": {},
   "outputs": [
    {
     "data": {
      "image/png": "[encoded data removed]",
      "text/plain": [
       "<Figure size 432x288 with 1 Axes>"
      ]
     },
     "metadata": {
      "needs_background": "light"
     },
     "output_type": "display_data"
    }
   ],
   "source": [
    "fill_mean_data1=data['LATITUDE'].fillna(data['LATITUDE'].mean())\n",
    "plt.hist(fill_mean_data1,bins = 20,color = 'steelblue',edgecolor = 'k',label = 'LATITUDE')\n",
    "plt.legend()\n",
    "plt.show()"
   ]
  },
  {
   "cell_type": "markdown",
   "metadata": {},
   "source": [
    "## 4.3 通过属性的相关关系来填补缺失值"
   ]
  },
  {
   "cell_type": "markdown",
   "metadata": {},
   "source": [
    "### 把属性LATITUDE缺失值作为新的label，建立模型得到预测值，然后进行填充，这里采用随机森林RF进行拟合。"
   ]
  },
  {
   "cell_type": "code",
   "execution_count": 21,
   "metadata": {},
   "outputs": [
    {
     "data": {
      "text/plain": [
       "0"
      ]
     },
     "execution_count": 21,
     "metadata": {},
     "output_type": "execute_result"
    }
   ],
   "source": [
    "from sklearn.ensemble import RandomForestRegressor\n",
    "\n",
    "data1=data.copy(deep=True)\n",
    "lat_data=data[['LATITUDE','INSPECTION NUMBER','STREET NUMBER','PROPERTY GROUP']]\n",
    "known_lat = lat_data[lat_data['LATITUDE'].notnull()].values\n",
    "unknown_lat = lat_data[lat_data['LATITUDE'].isnull()].values\n",
    "y = known_lat[:, 0]\n",
    "X = known_lat[:, 1:]\n",
    "rfr = RandomForestRegressor(random_state=0, n_estimators=2000, n_jobs=-1)\n",
    "rfr.fit(X, y)\n",
    "predictedLat = rfr.predict(unknown_lat[:, 1:])\n",
    "data.loc[(data['LATITUDE'].isnull()), 'LATITUDE' ] = predictedLat\n",
    "data['LATITUDE'].isnull().sum()"
   ]
  },
  {
   "cell_type": "code",
   "execution_count": 19,
   "metadata": {},
   "outputs": [
    {
     "data": {
      "image/png": "[encoded data removed]",
      "text/plain": [
       "<Figure size 432x288 with 1 Axes>"
      ]
     },
     "metadata": {
      "needs_background": "light"
     },
     "output_type": "display_data"
    }
   ],
   "source": [
    "plt.hist(lat_data['LATITUDE'],bins = 20,color = 'steelblue',edgecolor = 'k',label = 'LATITUDE')\n",
    "plt.legend()\n",
    "plt.show()"
   ]
  },
  {
   "cell_type": "markdown",
   "metadata": {},
   "source": [
    "## 4.4通过数据对象之间的相似性来填补缺失值"
   ]
  },
  {
   "cell_type": "markdown",
   "metadata": {},
   "source": [
    "### 填充近邻的数据，先利用knn计算临近的k个数据，然后填充他们的均值。"
   ]
  },
  {
   "cell_type": "code",
   "execution_count": null,
   "metadata": {},
   "outputs": [],
   "source": [
    "from fancyimpute import KNN\n",
    "data_knn=np.array(data1[['LATITUDE','INSPECTION NUMBER','STREET NUMBER','PROPERTY GROUP']])\n",
    "fill_knn_data=pd.DataFrame(KNN(k=3).fit_transform(data_knn))"
   ]
  }
 ],
 "metadata": {
  "kernelspec": {
   "display_name": "Python 3",
   "language": "python",
   "name": "python3"
  },
  "language_info": {
   "codemirror_mode": {
    "name": "ipython",
    "version": 3
   },
   "file_extension": ".py",
   "mimetype": "text/x-python",
   "name": "python",
   "nbconvert_exporter": "python",
   "pygments_lexer": "ipython3",
   "version": "3.6.6"
  }
 },
 "nbformat": 4,
 "nbformat_minor": 2
}
